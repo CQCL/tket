{
 "cells": [
  {
   "cell_type": "code",
   "execution_count": 38,
   "id": "74b91a9d",
   "metadata": {},
   "outputs": [],
   "source": [
    "from pytket import Circuit, OpType\n",
    "from pytket.passes import auto_rebase_pass, RemoveRedundancies, SynthesiseTket"
   ]
  },
  {
   "cell_type": "code",
   "execution_count": 23,
   "id": "7186a95a",
   "metadata": {},
   "outputs": [],
   "source": [
    "from sympy import Symbol\n",
    "alpha = Symbol(\"alpha\")\n",
    "beta = Symbol(\"beta\")\n",
    "gamma = Symbol(\"gamma\")"
   ]
  },
  {
   "cell_type": "code",
   "execution_count": 16,
   "id": "37417a4c",
   "metadata": {},
   "outputs": [
    {
     "data": {
      "text/plain": [
       "[ISWAP(alpha) q[0], q[1]; ]"
      ]
     },
     "execution_count": 16,
     "metadata": {},
     "output_type": "execute_result"
    }
   ],
   "source": [
    "c = Circuit(2)\n",
    "c.add_gate(OpType.ISWAP, alpha, [0,1])"
   ]
  },
  {
   "cell_type": "code",
   "execution_count": 30,
   "id": "68bbdd25",
   "metadata": {},
   "outputs": [
    {
     "data": {
      "text/plain": [
       "False"
      ]
     },
     "execution_count": 30,
     "metadata": {},
     "output_type": "execute_result"
    }
   ],
   "source": [
    "# ar_pass = auto_rebase_pass({OpType.Rx, OpType.Rz, OpType.CX})\n",
    "ar_pass = auto_rebase_pass({OpType.U3, OpType.CX})\n",
    "ar_pass.apply(c)"
   ]
  },
  {
   "cell_type": "code",
   "execution_count": 20,
   "id": "fde11034",
   "metadata": {},
   "outputs": [
    {
     "name": "stdout",
     "output_type": "stream",
     "text": [
      "[Rx(0.5) q[0];, Rx(1.5) q[1];, Rz(0.5) q[0];, CX q[0], q[1];, Rz(1.5) q[0];, Rz(2 + 0.5*alpha) q[1];, Rx(1 - 0.5*alpha) q[0];, Rx(1.5) q[1];, CX q[0], q[1];, Rx(0.5) q[0];]\n"
     ]
    }
   ],
   "source": [
    "print(c.get_commands())"
   ]
  },
  {
   "cell_type": "code",
   "execution_count": 40,
   "id": "43f06fec",
   "metadata": {},
   "outputs": [
    {
     "data": {
      "text/plain": [
       "[TK2(alpha, beta, gamma) q[0], q[1]; ]"
      ]
     },
     "execution_count": 40,
     "metadata": {},
     "output_type": "execute_result"
    }
   ],
   "source": [
    "c = Circuit(2)\n",
    "c.add_gate(OpType.TK2, [alpha, beta, gamma], [0,1])"
   ]
  },
  {
   "cell_type": "code",
   "execution_count": 41,
   "id": "925eeebf",
   "metadata": {},
   "outputs": [
    {
     "name": "stdout",
     "output_type": "stream",
     "text": [
      "U3(2.5, 1, 0.5) q[0];\n",
      "U3(0.5, 1.5, 0.5) q[1];\n",
      "CX q[0], q[1];\n",
      "U3(1.5, 3.0 + alpha, 0.5) q[0];\n",
      "U3(1, 1.5, 0.5 + beta) q[1];\n",
      "CX q[0], q[1];\n",
      "U3(0.5, 0, 0.5) q[0];\n",
      "U3(0, 1.5, 0.5 + gamma) q[1];\n",
      "CX q[0], q[1];\n"
     ]
    }
   ],
   "source": [
    "ar_pass.apply(c)\n",
    "SynthesiseTket().apply(c)\n",
    "RemoveRedundancies().apply(c)\n",
    "ar_pass.apply(c)\n",
    "RemoveRedundancies().apply(c)\n",
    "for x in c.get_commands():\n",
    "    print(x)"
   ]
  },
  {
   "cell_type": "code",
   "execution_count": 76,
   "id": "9146ad8f",
   "metadata": {},
   "outputs": [
    {
     "data": {
      "text/plain": [
       "[ISWAPMax q[0], q[1]; ]"
      ]
     },
     "execution_count": 76,
     "metadata": {},
     "output_type": "execute_result"
    }
   ],
   "source": [
    "c = Circuit(2)\n",
    "c.add_gate(OpType.ISWAPMax,[0,1])"
   ]
  },
  {
   "cell_type": "code",
   "execution_count": 77,
   "id": "be9d1f3e",
   "metadata": {},
   "outputs": [
    {
     "name": "stdout",
     "output_type": "stream",
     "text": [
      "U3(0.5, 1, 0.5) q[0];\n",
      "U3(1.5, 1.5, 0.5) q[1];\n",
      "CX q[0], q[1];\n",
      "U3(1.5, 1.5, 0) q[0];\n",
      "U3(1.5, 1.5, 0) q[1];\n",
      "CX q[0], q[1];\n",
      "U3(2.5, 1.5, 0.5) q[0];\n",
      "U3(1, 1.5, 1.5) q[1];\n"
     ]
    }
   ],
   "source": [
    "ar_pass.apply(c)\n",
    "SynthesiseTket().apply(c)\n",
    "RemoveRedundancies().apply(c)\n",
    "ar_pass.apply(c)\n",
    "RemoveRedundancies().apply(c)\n",
    "for x in c.get_commands():\n",
    "    print(x)"
   ]
  },
  {
   "cell_type": "code",
   "execution_count": null,
   "id": "1e516a7c",
   "metadata": {},
   "outputs": [],
   "source": []
  }
 ],
 "metadata": {
  "kernelspec": {
   "display_name": "Python 3 (ipykernel)",
   "language": "python",
   "name": "python3"
  },
  "language_info": {
   "codemirror_mode": {
    "name": "ipython",
    "version": 3
   },
   "file_extension": ".py",
   "mimetype": "text/x-python",
   "name": "python",
   "nbconvert_exporter": "python",
   "pygments_lexer": "ipython3",
   "version": "3.9.13"
  }
 },
 "nbformat": 4,
 "nbformat_minor": 5
}
