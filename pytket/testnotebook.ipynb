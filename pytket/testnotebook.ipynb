{
 "cells": [
  {
   "cell_type": "code",
   "execution_count": 14,
   "id": "37c1005a",
   "metadata": {},
   "outputs": [],
   "source": [
    "from pytket import Circuit, OpType\n",
    "from pytket.passes import auto_rebase_pass"
   ]
  },
  {
   "cell_type": "code",
   "execution_count": 23,
   "id": "5688f078",
   "metadata": {},
   "outputs": [],
   "source": [
    "from sympy import Symbol\n",
    "alpha = Symbol(\"alpha\")\n",
    "beta = Symbol(\"beta\")\n",
    "gamma = Symbol(\"gamma\")"
   ]
  },
  {
   "cell_type": "code",
   "execution_count": 16,
   "id": "c33f993a",
   "metadata": {},
   "outputs": [
    {
     "data": {
      "text/plain": [
       "[ISWAP(alpha) q[0], q[1]; ]"
      ]
     },
     "execution_count": 16,
     "metadata": {},
     "output_type": "execute_result"
    }
   ],
   "source": [
    "c = Circuit(2)\n",
    "c.add_gate(OpType.ISWAP, alpha, [0,1])"
   ]
  },
  {
   "cell_type": "code",
   "execution_count": 26,
   "id": "506c0632",
   "metadata": {},
   "outputs": [
    {
     "data": {
      "text/plain": [
       "True"
      ]
     },
     "execution_count": 26,
     "metadata": {},
     "output_type": "execute_result"
    }
   ],
   "source": [
    "ar_pass = auto_rebase_pass({OpType.Rx, OpType.Rz, OpType.CX})\n",
    "ar_pass.apply(c)"
   ]
  },
  {
   "cell_type": "code",
   "execution_count": 20,
   "id": "e7e43ef8",
   "metadata": {},
   "outputs": [
    {
     "name": "stdout",
     "output_type": "stream",
     "text": [
      "[Rx(0.5) q[0];, Rx(1.5) q[1];, Rz(0.5) q[0];, CX q[0], q[1];, Rz(1.5) q[0];, Rz(2 + 0.5*alpha) q[1];, Rx(1 - 0.5*alpha) q[0];, Rx(1.5) q[1];, CX q[0], q[1];, Rx(0.5) q[0];]\n"
     ]
    }
   ],
   "source": [
    "print(c.get_commands())"
   ]
  },
  {
   "cell_type": "code",
   "execution_count": 27,
   "id": "79e15df7",
   "metadata": {},
   "outputs": [
    {
     "data": {
      "text/plain": [
       "[TK2(alpha, beta, gamma) q[0], q[1]; ]"
      ]
     },
     "execution_count": 27,
     "metadata": {},
     "output_type": "execute_result"
    }
   ],
   "source": [
    "c = Circuit(2)\n",
    "c.add_gate(OpType.TK2, [alpha, beta, gamma], [0,1])"
   ]
  },
  {
   "cell_type": "code",
   "execution_count": 28,
   "id": "a582e171",
   "metadata": {},
   "outputs": [
    {
     "name": "stdout",
     "output_type": "stream",
     "text": [
      "[Rz(1) q[0];, Rx(0.5) q[1];, Rx(1.5) q[0];, Rz(0.5) q[0];, CX q[0], q[1];, Rx(3.5) q[0];, Rz(0.5 + beta) q[1];, Rz(3.5 + alpha) q[0];, Rx(1) q[1];, Rz(0.5) q[1];, CX q[0], q[1];, Rx(0.5) q[0];, Rz(gamma) q[1];, Rz(0.5) q[0];, CX q[0], q[1];]\n"
     ]
    }
   ],
   "source": [
    "ar_pass.apply(c)\n",
    "print(c.get_commands())"
   ]
  },
  {
   "cell_type": "code",
   "execution_count": null,
   "id": "e60f989b",
   "metadata": {},
   "outputs": [],
   "source": []
  }
 ],
 "metadata": {
  "kernelspec": {
   "display_name": "Python 3 (ipykernel)",
   "language": "python",
   "name": "python3"
  },
  "language_info": {
   "codemirror_mode": {
    "name": "ipython",
    "version": 3
   },
   "file_extension": ".py",
   "mimetype": "text/x-python",
   "name": "python",
   "nbconvert_exporter": "python",
   "pygments_lexer": "ipython3",
   "version": "3.9.13"
  }
 },
 "nbformat": 4,
 "nbformat_minor": 5
}
