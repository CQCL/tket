{
 "cells": [
  {
   "cell_type": "code",
   "execution_count": 1,
   "id": "8c3a95b7",
   "metadata": {},
   "outputs": [],
   "source": [
    "from pytket import wasm"
   ]
  },
  {
   "cell_type": "code",
   "execution_count": 3,
   "id": "e152f61a",
   "metadata": {},
   "outputs": [],
   "source": [
    "from pytket._tket.circuit import (  # type: ignore\n",
    "    _TEMP_BIT_NAME,\n",
    "    _TEMP_BIT_REG_BASE,\n",
    "    BitRegister,\n",
    "    QubitRegister,\n",
    "    Bit,\n",
    "    Circuit,\n",
    "    OpType,\n",
    "    Qubit,\n",
    "    Conditional,\n",
    "    Op,\n",
    "    SetBitsOp,\n",
    "    MultiBitOp,\n",
    "    RangePredicateOp,\n",
    "    ClassicalExpBox,\n",
    ")"
   ]
  },
  {
   "cell_type": "code",
   "execution_count": 2,
   "id": "5efcf218",
   "metadata": {},
   "outputs": [],
   "source": [
    "w = wasm.WasmFileHandler(\"testfile.wasm\")"
   ]
  },
  {
   "cell_type": "code",
   "execution_count": 10,
   "id": "10570462",
   "metadata": {},
   "outputs": [
    {
     "data": {
      "text/plain": [
       "[WASM c[0], c[1], _wasm_wire[0]; WASM c[0], c[2], _wasm_wire[0], _wasm_wire[1]; ]"
      ]
     },
     "execution_count": 10,
     "metadata": {},
     "output_type": "execute_result"
    }
   ],
   "source": [
    "    c = Circuit(0, 6)\n",
    "    c._add_wasm(\"funcname\", \"wasmfileuid\", [1, 1], [], [Bit(0), Bit(1)], [0])\n",
    "    c._add_wasm(\"funcname\", \"wasmfileuid\", [1, 1], [], [Bit(0), Bit(2)], [0, 1])\n",
    "    #c._add_wasm(\"funcname\", \"wasmfileuid\", [1, 1], [2], [0, 1, 2, 3], [0])\n",
    "    #c._add_wasm(\"funcname\", \"wasmfileuid\", [1, 1], [2], [0, 1, 2, 4], [0])\n",
    "    #c._add_wasm(\"funcname\", \"wasmfileuid\", [1], [1, 2], [0, 1, 2, 3], [0])\n",
    "    #c._add_wasm(\"funcname\", \"wasmfileuid\", [2, 1], [3], [0, 1, 2, 3, 4, 5], [0])"
   ]
  },
  {
   "cell_type": "code",
   "execution_count": 11,
   "id": "6bffcbd1",
   "metadata": {},
   "outputs": [],
   "source": [
    "from pytket.circuit.display import render_circuit_jupyter"
   ]
  },
  {
   "cell_type": "code",
   "execution_count": 12,
   "id": "7ed9d0c0",
   "metadata": {
    "scrolled": true
   },
   "outputs": [
    {
     "data": {
      "text/html": [
       "\n",
       "\n",
       "\n",
       "\n",
       "\n",
       "\n",
       "<iframe srcdoc=\"\n",
       "&lt;!DOCTYPE html&gt;\n",
       "&lt;html lang=&#34;en&#34;&gt;\n",
       "&lt;head&gt;\n",
       "    &lt;meta charset=&#34;UTF-8&#34;&gt;\n",
       "    &lt;!-- Download Vue 3--&gt;\n",
       "&lt;script type=&#34;application/javascript&#34; src=&#34;https://cdn.jsdelivr.net/npm/vue@3&#34;&gt;&lt;/script&gt;\n",
       "&lt;!-- Download Circuit Renderer with styles --&gt;\n",
       "&lt;script type=&#34;application/javascript&#34; src=&#34;https://unpkg.com/pytket-circuit-renderer@0.5/dist/pytket-circuit-renderer.umd.js&#34;&gt;&lt;/script&gt;\n",
       "&lt;link rel=&#34;stylesheet&#34; href=&#34;https://unpkg.com/pytket-circuit-renderer@0.5/dist/pytket-circuit-renderer.css&#34;&gt;\n",
       "&lt;/head&gt;\n",
       "&lt;body&gt;\n",
       "    &lt;div id=&#34;circuit-display-vue-container-c28d8293-ab8e-4fb7-97ef-28cd1e98d3f0&#34; class=&#34;pytket-circuit-display-container&#34;&gt;\n",
       "        &lt;div style=&#34;display: none&#34;&gt;\n",
       "            &lt;div id=&#34;circuit-json-to-display&#34;&gt;{&#34;bits&#34;: [[&#34;c&#34;, [0]], [&#34;c&#34;, [1]], [&#34;c&#34;, [2]], [&#34;c&#34;, [3]], [&#34;c&#34;, [4]], [&#34;c&#34;, [5]]], &#34;commands&#34;: [{&#34;args&#34;: [[&#34;c&#34;, [0]], [&#34;c&#34;, [1]], [&#34;_wasm_wire&#34;, [0]]], &#34;op&#34;: {&#34;type&#34;: &#34;WASM&#34;, &#34;wasm&#34;: {&#34;func_name&#34;: &#34;funcname&#34;, &#34;n&#34;: 2, &#34;ni_vec&#34;: [1, 1], &#34;no_vec&#34;: [], &#34;wasm_uid&#34;: &#34;wasmfileuid&#34;, &#34;ww_n&#34;: 1}}}, {&#34;args&#34;: [[&#34;c&#34;, [0]], [&#34;c&#34;, [2]], [&#34;_wasm_wire&#34;, [0]], [&#34;_wasm_wire&#34;, [1]]], &#34;op&#34;: {&#34;type&#34;: &#34;WASM&#34;, &#34;wasm&#34;: {&#34;func_name&#34;: &#34;funcname&#34;, &#34;n&#34;: 2, &#34;ni_vec&#34;: [1, 1], &#34;no_vec&#34;: [], &#34;wasm_uid&#34;: &#34;wasmfileuid&#34;, &#34;ww_n&#34;: 2}}}], &#34;created_qubits&#34;: [], &#34;discarded_qubits&#34;: [], &#34;implicit_permutation&#34;: [], &#34;number_of_wasm_wires&#34;: 2, &#34;phase&#34;: &#34;0.0&#34;, &#34;qubits&#34;: []}&lt;/div&gt;\n",
       "        &lt;/div&gt;\n",
       "        &lt;circuit-display-container :circuit-element-str=&#34;&#39;#circuit-json-to-display&#39;&#34;&gt;&lt;/circuit-display-container&gt;\n",
       "    &lt;/div&gt;\n",
       "    &lt;script type=&#34;application/javascript&#34;&gt;\n",
       "      const circuitRendererUid = &#34;c28d8293-ab8e-4fb7-97ef-28cd1e98d3f0&#34;;\n",
       "\n",
       "      // Script to initialise the circuit renderer app\n",
       "\n",
       "const { createApp } = Vue;\n",
       "const circuitDisplayContainer = window[&#34;pytket-circuit-renderer&#34;].default;\n",
       "// Init variables to be shared between circuit display instances\n",
       "if (typeof window.pytketCircuitDisplays === &#34;undefined&#34;) {\n",
       "    window.pytketCircuitDisplays = {};\n",
       "}\n",
       "// Create the root Vue component\n",
       "const app = createApp({\n",
       "    delimiters: [&#39;[[#&#39;, &#39;#]]&#39;],\n",
       "    components: { circuitDisplayContainer },\n",
       "})\n",
       "app.config.unwrapInjectedRef = true;\n",
       "app.mount(&#34;#circuit-display-vue-container-&#34;+circuitRendererUid);\n",
       "window.pytketCircuitDisplays[circuitRendererUid] = app;\n",
       "    &lt;/script&gt;\n",
       "&lt;/body&gt;\n",
       "&lt;/html&gt;\n",
       "\"\n",
       "        width=\"100%\" height=\"200px\"\n",
       "        style=\"border: none; outline: none; resize: vertical; overflow: auto\"></iframe>\n",
       "\n"
      ],
      "text/plain": [
       "<IPython.core.display.HTML object>"
      ]
     },
     "metadata": {},
     "output_type": "display_data"
    }
   ],
   "source": [
    "render_circuit_jupyter(c)"
   ]
  },
  {
   "cell_type": "code",
   "execution_count": 13,
   "id": "d52f34cb",
   "metadata": {},
   "outputs": [],
   "source": [
    "from pytket.utils import Graph"
   ]
  },
  {
   "cell_type": "code",
   "execution_count": 14,
   "id": "9fd8e98d",
   "metadata": {},
   "outputs": [],
   "source": [
    "g = Graph(c)"
   ]
  },
  {
   "cell_type": "code",
   "execution_count": 15,
   "id": "9dd5c564",
   "metadata": {},
   "outputs": [
    {
     "data": {
      "text/plain": [
       "'/tmp/tmpx34y579p'"
      ]
     },
     "execution_count": 15,
     "metadata": {},
     "output_type": "execute_result"
    }
   ],
   "source": [
    "g.view_DAG()"
   ]
  },
  {
   "cell_type": "code",
   "execution_count": null,
   "id": "1a821dd5",
   "metadata": {},
   "outputs": [],
   "source": []
  }
 ],
 "metadata": {
  "kernelspec": {
   "display_name": "Python 3 (ipykernel)",
   "language": "python",
   "name": "python3"
  },
  "language_info": {
   "codemirror_mode": {
    "name": "ipython",
    "version": 3
   },
   "file_extension": ".py",
   "mimetype": "text/x-python",
   "name": "python",
   "nbconvert_exporter": "python",
   "pygments_lexer": "ipython3",
   "version": "3.9.16"
  }
 },
 "nbformat": 4,
 "nbformat_minor": 5
}
